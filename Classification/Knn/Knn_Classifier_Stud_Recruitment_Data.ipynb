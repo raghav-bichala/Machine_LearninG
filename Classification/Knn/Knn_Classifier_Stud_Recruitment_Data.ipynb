{
 "cells": [
  {
   "cell_type": "markdown",
   "id": "3c90e037-4df2-40db-adc0-aacb1202bf98",
   "metadata": {},
   "source": [
    "### Importing Libraries"
   ]
  },
  {
   "cell_type": "code",
   "execution_count": 1,
   "id": "701a0b39-da28-4216-95fd-9eb8b588df32",
   "metadata": {},
   "outputs": [],
   "source": [
    "import pandas as pd\n",
    "import seaborn as sns\n",
    "\n",
    "from sklearn.model_selection import train_test_split\n",
    "from sklearn.neighbors import KNeighborsClassifier\n",
    "from sklearn.metrics import classification_report,confusion_matrix"
   ]
  },
  {
   "cell_type": "markdown",
   "id": "3e113d1e-0a1b-4d94-9556-e775350d02f3",
   "metadata": {},
   "source": [
    "#### DataSet_ Links"
   ]
  },
  {
   "cell_type": "code",
   "execution_count": 2,
   "id": "ce9cbf04-551a-4b88-9a77-2de3d4fe6f8f",
   "metadata": {},
   "outputs": [],
   "source": [
    "#https://www.kaggle.com/discussions/getting-started/356678\n",
    "\n",
    "#https://www.kaggle.com/discussions/general/268890"
   ]
  },
  {
   "cell_type": "markdown",
   "id": "09780f53-f86b-4dc0-a2fa-9b34fd696521",
   "metadata": {},
   "source": [
    "### Load_DataSet"
   ]
  },
  {
   "cell_type": "code",
   "execution_count": 3,
   "id": "2ff46c50-4b33-4d3d-8ec3-389afc335eb6",
   "metadata": {},
   "outputs": [],
   "source": [
    "df = pd.read_csv(r\"C:\\Users\\ragha\\OneDrive\\Desktop\\DS_CareeR\\NuCoT_TraininG\\noTES\\Machine Learning\\Supervised Learning\\Classification\\Placement_Data_Full_Class.csv\")"
   ]
  },
  {
   "cell_type": "markdown",
   "id": "239835be-868d-496e-aa59-b7d026e03af1",
   "metadata": {},
   "source": [
    "### Examine DataSet"
   ]
  },
  {
   "cell_type": "code",
   "execution_count": 4,
   "id": "87032974-acca-4130-8fc5-dff743ecbbd6",
   "metadata": {},
   "outputs": [
    {
     "data": {
      "text/html": [
       "<div>\n",
       "<style scoped>\n",
       "    .dataframe tbody tr th:only-of-type {\n",
       "        vertical-align: middle;\n",
       "    }\n",
       "\n",
       "    .dataframe tbody tr th {\n",
       "        vertical-align: top;\n",
       "    }\n",
       "\n",
       "    .dataframe thead th {\n",
       "        text-align: right;\n",
       "    }\n",
       "</style>\n",
       "<table border=\"1\" class=\"dataframe\">\n",
       "  <thead>\n",
       "    <tr style=\"text-align: right;\">\n",
       "      <th></th>\n",
       "      <th>sl_no</th>\n",
       "      <th>gender</th>\n",
       "      <th>ssc_p</th>\n",
       "      <th>ssc_b</th>\n",
       "      <th>hsc_p</th>\n",
       "      <th>hsc_b</th>\n",
       "      <th>hsc_s</th>\n",
       "      <th>degree_p</th>\n",
       "      <th>degree_t</th>\n",
       "      <th>workex</th>\n",
       "      <th>etest_p</th>\n",
       "      <th>specialisation</th>\n",
       "      <th>mba_p</th>\n",
       "      <th>status</th>\n",
       "      <th>salary</th>\n",
       "    </tr>\n",
       "  </thead>\n",
       "  <tbody>\n",
       "    <tr>\n",
       "      <th>0</th>\n",
       "      <td>1</td>\n",
       "      <td>M</td>\n",
       "      <td>67.00</td>\n",
       "      <td>Others</td>\n",
       "      <td>91.00</td>\n",
       "      <td>Others</td>\n",
       "      <td>Commerce</td>\n",
       "      <td>58.00</td>\n",
       "      <td>Sci&amp;Tech</td>\n",
       "      <td>No</td>\n",
       "      <td>55.0</td>\n",
       "      <td>Mkt&amp;HR</td>\n",
       "      <td>58.80</td>\n",
       "      <td>Placed</td>\n",
       "      <td>270000.0</td>\n",
       "    </tr>\n",
       "    <tr>\n",
       "      <th>1</th>\n",
       "      <td>2</td>\n",
       "      <td>M</td>\n",
       "      <td>79.33</td>\n",
       "      <td>Central</td>\n",
       "      <td>78.33</td>\n",
       "      <td>Others</td>\n",
       "      <td>Science</td>\n",
       "      <td>77.48</td>\n",
       "      <td>Sci&amp;Tech</td>\n",
       "      <td>Yes</td>\n",
       "      <td>86.5</td>\n",
       "      <td>Mkt&amp;Fin</td>\n",
       "      <td>66.28</td>\n",
       "      <td>Placed</td>\n",
       "      <td>200000.0</td>\n",
       "    </tr>\n",
       "    <tr>\n",
       "      <th>2</th>\n",
       "      <td>3</td>\n",
       "      <td>M</td>\n",
       "      <td>65.00</td>\n",
       "      <td>Central</td>\n",
       "      <td>68.00</td>\n",
       "      <td>Central</td>\n",
       "      <td>Arts</td>\n",
       "      <td>64.00</td>\n",
       "      <td>Comm&amp;Mgmt</td>\n",
       "      <td>No</td>\n",
       "      <td>75.0</td>\n",
       "      <td>Mkt&amp;Fin</td>\n",
       "      <td>57.80</td>\n",
       "      <td>Placed</td>\n",
       "      <td>250000.0</td>\n",
       "    </tr>\n",
       "    <tr>\n",
       "      <th>3</th>\n",
       "      <td>4</td>\n",
       "      <td>M</td>\n",
       "      <td>56.00</td>\n",
       "      <td>Central</td>\n",
       "      <td>52.00</td>\n",
       "      <td>Central</td>\n",
       "      <td>Science</td>\n",
       "      <td>52.00</td>\n",
       "      <td>Sci&amp;Tech</td>\n",
       "      <td>No</td>\n",
       "      <td>66.0</td>\n",
       "      <td>Mkt&amp;HR</td>\n",
       "      <td>59.43</td>\n",
       "      <td>Not Placed</td>\n",
       "      <td>NaN</td>\n",
       "    </tr>\n",
       "    <tr>\n",
       "      <th>4</th>\n",
       "      <td>5</td>\n",
       "      <td>M</td>\n",
       "      <td>85.80</td>\n",
       "      <td>Central</td>\n",
       "      <td>73.60</td>\n",
       "      <td>Central</td>\n",
       "      <td>Commerce</td>\n",
       "      <td>73.30</td>\n",
       "      <td>Comm&amp;Mgmt</td>\n",
       "      <td>No</td>\n",
       "      <td>96.8</td>\n",
       "      <td>Mkt&amp;Fin</td>\n",
       "      <td>55.50</td>\n",
       "      <td>Placed</td>\n",
       "      <td>425000.0</td>\n",
       "    </tr>\n",
       "  </tbody>\n",
       "</table>\n",
       "</div>"
      ],
      "text/plain": [
       "   sl_no gender  ssc_p    ssc_b  hsc_p    hsc_b     hsc_s  degree_p  \\\n",
       "0      1      M  67.00   Others  91.00   Others  Commerce     58.00   \n",
       "1      2      M  79.33  Central  78.33   Others   Science     77.48   \n",
       "2      3      M  65.00  Central  68.00  Central      Arts     64.00   \n",
       "3      4      M  56.00  Central  52.00  Central   Science     52.00   \n",
       "4      5      M  85.80  Central  73.60  Central  Commerce     73.30   \n",
       "\n",
       "    degree_t workex  etest_p specialisation  mba_p      status    salary  \n",
       "0   Sci&Tech     No     55.0         Mkt&HR  58.80      Placed  270000.0  \n",
       "1   Sci&Tech    Yes     86.5        Mkt&Fin  66.28      Placed  200000.0  \n",
       "2  Comm&Mgmt     No     75.0        Mkt&Fin  57.80      Placed  250000.0  \n",
       "3   Sci&Tech     No     66.0         Mkt&HR  59.43  Not Placed       NaN  \n",
       "4  Comm&Mgmt     No     96.8        Mkt&Fin  55.50      Placed  425000.0  "
      ]
     },
     "execution_count": 4,
     "metadata": {},
     "output_type": "execute_result"
    }
   ],
   "source": [
    "df.head()"
   ]
  },
  {
   "cell_type": "code",
   "execution_count": 5,
   "id": "c168bc93-c7f0-4bf4-a452-2105a6e1075b",
   "metadata": {},
   "outputs": [
    {
     "data": {
      "text/plain": [
       "Index(['sl_no', 'gender', 'ssc_p', 'ssc_b', 'hsc_p', 'hsc_b', 'hsc_s',\n",
       "       'degree_p', 'degree_t', 'workex', 'etest_p', 'specialisation', 'mba_p',\n",
       "       'status', 'salary'],\n",
       "      dtype='object')"
      ]
     },
     "execution_count": 5,
     "metadata": {},
     "output_type": "execute_result"
    }
   ],
   "source": [
    "df.columns"
   ]
  },
  {
   "cell_type": "code",
   "execution_count": 6,
   "id": "b4f3df09-ba6b-4944-818f-e8da93131a04",
   "metadata": {},
   "outputs": [
    {
     "data": {
      "text/plain": [
       "array(['Placed', 'Not Placed'], dtype=object)"
      ]
     },
     "execution_count": 6,
     "metadata": {},
     "output_type": "execute_result"
    }
   ],
   "source": [
    "df['status'].unique()"
   ]
  },
  {
   "cell_type": "code",
   "execution_count": 7,
   "id": "e68f2a5e-4669-450d-9f54-5c668b7105c0",
   "metadata": {},
   "outputs": [
    {
     "name": "stdout",
     "output_type": "stream",
     "text": [
      "Unique_Values of gender : ['M' 'F']\n",
      "Unique_Values of ssc_p : [67.   79.33 65.   56.   85.8  55.   46.   82.   73.   58.   69.6  47.\n",
      " 77.   62.   63.   60.   79.   69.8  77.4  76.5  52.58 71.   76.76 64.\n",
      " 61.   87.   69.   51.   81.   78.   74.   49.   76.   70.89 50.   75.2\n",
      " 54.4  40.89 80.   60.4  68.   52.6  84.2  86.5  54.   83.   80.92 69.7\n",
      " 75.   84.86 64.6  56.6  59.   66.5  84.   81.7  70.   83.84 59.6  66.\n",
      " 85.   52.   60.23 70.5  45.   61.08 69.5  73.96 68.2  60.8  72.   80.4\n",
      " 76.7  74.9  77.44 77.67 89.4  44.   75.4  53.   51.57 55.6  74.2  67.16\n",
      " 63.3  67.9  48.   59.96 63.4  73.24 77.8  56.28 88.   78.5  61.8  65.2\n",
      " 83.96 54.2  55.68 41.   83.33 43.   80.6 ]\n",
      "Unique_Values of ssc_b : ['Others' 'Central']\n",
      "Unique_Values of hsc_p : [91.   78.33 68.   52.   73.6  49.8  49.2  64.   79.   70.   61.   68.4\n",
      " 55.   87.   47.   75.   66.2  67.   66.   65.   76.   60.8  60.   97.7\n",
      " 54.6  76.5  73.5  53.   81.   51.   78.   44.   58.   77.   63.16 39.\n",
      " 73.   71.98 62.   37.   73.2  61.12 45.83 66.6  71.4  65.58 73.4  64.2\n",
      " 74.   78.5  70.29 83.83 64.8  70.4  80.   90.9  63.   89.83 90.   57.\n",
      " 69.   62.5  82.   72.   50.   54.   72.8  40.   66.8  59.   71.   89.7\n",
      " 92.   56.   64.89 65.66 86.   58.66 60.5  74.66 69.4  49.   87.6  72.5\n",
      " 42.16 67.2  50.83 97.   71.5  60.33 62.83 65.5  77.6  70.2  61.4  61.33\n",
      " 42.  ]\n",
      "Unique_Values of hsc_b : ['Others' 'Central']\n",
      "Unique_Values of hsc_s : ['Commerce' 'Science' 'Arts']\n",
      "Unique_Values of degree_p : [58.   77.48 64.   52.   73.3  67.25 79.   66.   72.   61.   60.   78.3\n",
      " 65.   59.   50.   69.   65.6  70.   85.   72.23 64.74 78.86 50.2  67.5\n",
      " 73.   66.4  81.   57.   80.   68.   68.4  56.2  53.   61.4  74.   72.11\n",
      " 66.89 67.4  75.   67.   72.7  62.   71.   78.   71.72 70.2  77.5  71.93\n",
      " 64.5  77.2  82.   50.8  54.   76.   63.   83.   66.6  64.6  69.6  69.3\n",
      " 64.33 75.5  77.72 77.   69.5  73.43 70.67 71.25 56.   55.   84.   59.9\n",
      " 60.9  57.5  77.25 63.35 61.26 64.27 64.2  62.8  64.21 59.79 54.38 69.2\n",
      " 64.8  56.3  91.   56.87 77.6 ]\n",
      "Unique_Values of degree_t : ['Sci&Tech' 'Comm&Mgmt' 'Others']\n",
      "Unique_Values of workex : ['No' 'Yes']\n",
      "Unique_Values of etest_p : [55.   86.5  75.   66.   96.8  74.28 67.   91.34 54.   62.   60.   68.\n",
      " 76.   72.   50.48 50.   95.   55.53 92.   97.4  94.   73.35 77.   52.\n",
      " 64.   50.89 88.   68.44 71.   58.   53.7  93.   65.   63.   89.   78.\n",
      " 71.2  87.   80.   74.   57.6  61.6  59.   68.5  61.   89.69 68.92 68.71\n",
      " 79.   70.   95.5  86.   84.27 69.   86.04 82.   84.   78.74 53.88 95.46\n",
      " 93.91 56.39 57.5  85.   57.2  72.15 96.   97.   82.66 73.   55.67 80.4\n",
      " 55.5  81.2  90.   74.4  55.6  56.   83.   57.   64.25 98.   56.15 93.4\n",
      " 57.63 75.2  53.04 58.1  54.48 58.06 63.79 87.5  75.5  95.65 59.32 87.55\n",
      " 61.28 88.56 92.66 91.  ]\n",
      "Unique_Values of specialisation : ['Mkt&HR' 'Mkt&Fin']\n",
      "Unique_Values of mba_p : [58.8  66.28 57.8  59.43 55.5  51.58 53.29 62.14 61.29 52.21 60.85 63.7\n",
      " 65.04 68.63 54.96 64.66 62.54 67.28 64.08 77.89 56.7  69.06 68.81 63.62\n",
      " 74.01 65.33 57.55 57.69 64.15 51.29 58.32 62.21 72.78 62.77 62.74 51.45\n",
      " 55.47 56.86 62.56 66.72 69.76 51.21 62.9  69.7  66.53 71.63 54.55 62.46\n",
      " 56.11 62.98 62.65 65.49 71.04 65.56 52.71 66.88 63.59 57.99 56.66 57.24\n",
      " 62.48 59.69 59.5  58.78 57.1  58.46 60.99 59.24 68.07 65.45 66.94 68.53\n",
      " 59.75 67.2  67.   64.27 57.65 59.42 67.99 62.35 70.2  60.44 66.69 62.\n",
      " 76.18 57.03 59.08 64.36 62.36 68.03 62.79 59.47 55.41 54.97 62.16 64.44\n",
      " 69.03 57.31 64.95 61.31 65.83 58.23 55.3  65.69 73.52 58.31 56.09 54.8\n",
      " 60.64 53.94 63.08 55.01 60.5  70.85 67.05 70.48 64.34 58.81 71.49 71.\n",
      " 61.26 73.33 68.2  58.4  76.26 68.55 60.78 53.49 60.98 67.13 65.63 61.58\n",
      " 60.41 71.77 54.43 56.94 61.9  60.39 58.52 63.23 55.14 62.28 58.54 61.3\n",
      " 58.87 65.25 53.2  65.99 52.72 55.03 61.87 60.59 72.29 62.72 66.06 66.46\n",
      " 65.52 74.56 52.38 75.71 58.79 65.48 69.28 66.04 52.64 59.32 66.23 60.69\n",
      " 57.9  70.81 72.14 56.6  60.02 59.81 61.82 57.29 71.43 62.93 64.86 56.13\n",
      " 62.5  61.01 57.34 56.63 64.74 58.95 54.48 69.71 71.96 55.8  52.81 58.44\n",
      " 60.11 58.3  67.69 56.81 53.39 71.55 62.92 56.49 74.49 53.62 69.72 60.23\n",
      " 60.22]\n",
      "Unique_Values of status : ['Placed' 'Not Placed']\n"
     ]
    }
   ],
   "source": [
    "print('Unique_Values of gender :',df['gender'].unique())\n",
    "print('Unique_Values of ssc_p :',df['ssc_p'].unique())\n",
    "print('Unique_Values of ssc_b :',df['ssc_b'].unique())\n",
    "print('Unique_Values of hsc_p :',df['hsc_p'].unique())\n",
    "print('Unique_Values of hsc_b :',df['hsc_b'].unique())\n",
    "print('Unique_Values of hsc_s :',df['hsc_s'].unique())\n",
    "print('Unique_Values of degree_p :',df['degree_p'].unique())\n",
    "print('Unique_Values of degree_t :',df['degree_t'].unique())\n",
    "print('Unique_Values of workex :',df['workex'].unique())\n",
    "print('Unique_Values of etest_p :',df['etest_p'].unique())\n",
    "print('Unique_Values of specialisation :',df['specialisation'].unique())\n",
    "print('Unique_Values of mba_p :',df['mba_p'].unique())\n",
    "print('Unique_Values of status :',df['status'].unique())"
   ]
  },
  {
   "cell_type": "code",
   "execution_count": 8,
   "id": "01044da0-3084-4cce-9faa-8c77b1348fbe",
   "metadata": {},
   "outputs": [
    {
     "data": {
      "text/plain": [
       "sl_no  gender  ssc_p  ssc_b    hsc_p  hsc_b    hsc_s     degree_p  degree_t   workex  etest_p  specialisation  mba_p  status  salary  \n",
       "1      M       67.00  Others   91.00  Others   Commerce  58.00     Sci&Tech   No      55.00    Mkt&HR          58.80  Placed  270000.0    1\n",
       "132    F       74.90  Others   57.00  Others   Science   62.00     Others     Yes     80.00    Mkt&Fin         60.78  Placed  360000.0    1\n",
       "134    M       73.00  Central  64.00  Others   Commerce  77.00     Comm&Mgmt  Yes     65.00    Mkt&HR          60.98  Placed  250000.0    1\n",
       "135    F       77.44  Central  92.00  Others   Commerce  72.00     Comm&Mgmt  Yes     94.00    Mkt&Fin         67.13  Placed  250000.0    1\n",
       "136    F       72.00  Central  56.00  Others   Science   69.00     Comm&Mgmt  No      55.60    Mkt&HR          65.63  Placed  200000.0    1\n",
       "                                                                                                                                         ..\n",
       "73     M       84.86  Others   67.00  Others   Science   78.00     Comm&Mgmt  No      95.50    Mkt&Fin         68.53  Placed  240000.0    1\n",
       "74     M       64.60  Central  83.83  Others   Commerce  71.72     Comm&Mgmt  No      86.00    Mkt&Fin         59.75  Placed  218000.0    1\n",
       "75     M       56.60  Central  64.80  Central  Commerce  70.20     Comm&Mgmt  No      84.27    Mkt&Fin         67.20  Placed  336000.0    1\n",
       "77     F       66.50  Others   70.40  Central  Arts      71.93     Comm&Mgmt  No      61.00    Mkt&Fin         64.27  Placed  230000.0    1\n",
       "214    F       74.00  Others   66.00  Others   Commerce  58.00     Comm&Mgmt  No      70.00    Mkt&HR          60.23  Placed  204000.0    1\n",
       "Name: count, Length: 148, dtype: int64"
      ]
     },
     "execution_count": 8,
     "metadata": {},
     "output_type": "execute_result"
    }
   ],
   "source": [
    "df.value_counts()"
   ]
  },
  {
   "cell_type": "markdown",
   "id": "7986b7d1-a1c5-48ff-b584-0e051bf60b22",
   "metadata": {},
   "source": [
    "### Data Cleaning"
   ]
  },
  {
   "cell_type": "code",
   "execution_count": 9,
   "id": "f5add671-fa6b-446f-bdb0-46ecd8209eea",
   "metadata": {},
   "outputs": [
    {
     "data": {
      "text/plain": [
       "sl_no              0\n",
       "gender             0\n",
       "ssc_p              0\n",
       "ssc_b              0\n",
       "hsc_p              0\n",
       "hsc_b              0\n",
       "hsc_s              0\n",
       "degree_p           0\n",
       "degree_t           0\n",
       "workex             0\n",
       "etest_p            0\n",
       "specialisation     0\n",
       "mba_p              0\n",
       "status             0\n",
       "salary            67\n",
       "dtype: int64"
      ]
     },
     "execution_count": 9,
     "metadata": {},
     "output_type": "execute_result"
    }
   ],
   "source": [
    "df.isnull().sum()"
   ]
  },
  {
   "cell_type": "code",
   "execution_count": 10,
   "id": "60b22d30-c73d-4a37-8025-b430e3d5c034",
   "metadata": {},
   "outputs": [
    {
     "data": {
      "text/html": [
       "<div>\n",
       "<style scoped>\n",
       "    .dataframe tbody tr th:only-of-type {\n",
       "        vertical-align: middle;\n",
       "    }\n",
       "\n",
       "    .dataframe tbody tr th {\n",
       "        vertical-align: top;\n",
       "    }\n",
       "\n",
       "    .dataframe thead th {\n",
       "        text-align: right;\n",
       "    }\n",
       "</style>\n",
       "<table border=\"1\" class=\"dataframe\">\n",
       "  <thead>\n",
       "    <tr style=\"text-align: right;\">\n",
       "      <th></th>\n",
       "      <th>gender</th>\n",
       "      <th>ssc_p</th>\n",
       "      <th>ssc_b</th>\n",
       "      <th>hsc_p</th>\n",
       "      <th>hsc_b</th>\n",
       "      <th>hsc_s</th>\n",
       "      <th>degree_p</th>\n",
       "      <th>degree_t</th>\n",
       "      <th>workex</th>\n",
       "      <th>etest_p</th>\n",
       "      <th>specialisation</th>\n",
       "      <th>mba_p</th>\n",
       "      <th>status</th>\n",
       "    </tr>\n",
       "  </thead>\n",
       "  <tbody>\n",
       "    <tr>\n",
       "      <th>0</th>\n",
       "      <td>M</td>\n",
       "      <td>67.00</td>\n",
       "      <td>Others</td>\n",
       "      <td>91.00</td>\n",
       "      <td>Others</td>\n",
       "      <td>Commerce</td>\n",
       "      <td>58.00</td>\n",
       "      <td>Sci&amp;Tech</td>\n",
       "      <td>No</td>\n",
       "      <td>55.0</td>\n",
       "      <td>Mkt&amp;HR</td>\n",
       "      <td>58.80</td>\n",
       "      <td>Placed</td>\n",
       "    </tr>\n",
       "    <tr>\n",
       "      <th>1</th>\n",
       "      <td>M</td>\n",
       "      <td>79.33</td>\n",
       "      <td>Central</td>\n",
       "      <td>78.33</td>\n",
       "      <td>Others</td>\n",
       "      <td>Science</td>\n",
       "      <td>77.48</td>\n",
       "      <td>Sci&amp;Tech</td>\n",
       "      <td>Yes</td>\n",
       "      <td>86.5</td>\n",
       "      <td>Mkt&amp;Fin</td>\n",
       "      <td>66.28</td>\n",
       "      <td>Placed</td>\n",
       "    </tr>\n",
       "    <tr>\n",
       "      <th>2</th>\n",
       "      <td>M</td>\n",
       "      <td>65.00</td>\n",
       "      <td>Central</td>\n",
       "      <td>68.00</td>\n",
       "      <td>Central</td>\n",
       "      <td>Arts</td>\n",
       "      <td>64.00</td>\n",
       "      <td>Comm&amp;Mgmt</td>\n",
       "      <td>No</td>\n",
       "      <td>75.0</td>\n",
       "      <td>Mkt&amp;Fin</td>\n",
       "      <td>57.80</td>\n",
       "      <td>Placed</td>\n",
       "    </tr>\n",
       "    <tr>\n",
       "      <th>3</th>\n",
       "      <td>M</td>\n",
       "      <td>56.00</td>\n",
       "      <td>Central</td>\n",
       "      <td>52.00</td>\n",
       "      <td>Central</td>\n",
       "      <td>Science</td>\n",
       "      <td>52.00</td>\n",
       "      <td>Sci&amp;Tech</td>\n",
       "      <td>No</td>\n",
       "      <td>66.0</td>\n",
       "      <td>Mkt&amp;HR</td>\n",
       "      <td>59.43</td>\n",
       "      <td>Not Placed</td>\n",
       "    </tr>\n",
       "    <tr>\n",
       "      <th>4</th>\n",
       "      <td>M</td>\n",
       "      <td>85.80</td>\n",
       "      <td>Central</td>\n",
       "      <td>73.60</td>\n",
       "      <td>Central</td>\n",
       "      <td>Commerce</td>\n",
       "      <td>73.30</td>\n",
       "      <td>Comm&amp;Mgmt</td>\n",
       "      <td>No</td>\n",
       "      <td>96.8</td>\n",
       "      <td>Mkt&amp;Fin</td>\n",
       "      <td>55.50</td>\n",
       "      <td>Placed</td>\n",
       "    </tr>\n",
       "  </tbody>\n",
       "</table>\n",
       "</div>"
      ],
      "text/plain": [
       "  gender  ssc_p    ssc_b  hsc_p    hsc_b     hsc_s  degree_p   degree_t  \\\n",
       "0      M  67.00   Others  91.00   Others  Commerce     58.00   Sci&Tech   \n",
       "1      M  79.33  Central  78.33   Others   Science     77.48   Sci&Tech   \n",
       "2      M  65.00  Central  68.00  Central      Arts     64.00  Comm&Mgmt   \n",
       "3      M  56.00  Central  52.00  Central   Science     52.00   Sci&Tech   \n",
       "4      M  85.80  Central  73.60  Central  Commerce     73.30  Comm&Mgmt   \n",
       "\n",
       "  workex  etest_p specialisation  mba_p      status  \n",
       "0     No     55.0         Mkt&HR  58.80      Placed  \n",
       "1    Yes     86.5        Mkt&Fin  66.28      Placed  \n",
       "2     No     75.0        Mkt&Fin  57.80      Placed  \n",
       "3     No     66.0         Mkt&HR  59.43  Not Placed  \n",
       "4     No     96.8        Mkt&Fin  55.50      Placed  "
      ]
     },
     "execution_count": 10,
     "metadata": {},
     "output_type": "execute_result"
    }
   ],
   "source": [
    "df.drop(['sl_no','salary'],axis = 1,inplace = True)\n",
    "df.head()"
   ]
  },
  {
   "cell_type": "code",
   "execution_count": 11,
   "id": "b0398998-1d03-4b21-8e86-61189d66e4bd",
   "metadata": {},
   "outputs": [
    {
     "data": {
      "text/plain": [
       "Index(['gender', 'ssc_p', 'ssc_b', 'hsc_p', 'hsc_b', 'hsc_s', 'degree_p',\n",
       "       'degree_t', 'workex', 'etest_p', 'specialisation', 'mba_p', 'status'],\n",
       "      dtype='object')"
      ]
     },
     "execution_count": 11,
     "metadata": {},
     "output_type": "execute_result"
    }
   ],
   "source": [
    "df.columns"
   ]
  },
  {
   "cell_type": "code",
   "execution_count": 12,
   "id": "6971832f-27cc-4d40-85f4-eea235d99c38",
   "metadata": {},
   "outputs": [
    {
     "name": "stdout",
     "output_type": "stream",
     "text": [
      "<class 'pandas.core.frame.DataFrame'>\n",
      "RangeIndex: 215 entries, 0 to 214\n",
      "Data columns (total 13 columns):\n",
      " #   Column          Non-Null Count  Dtype  \n",
      "---  ------          --------------  -----  \n",
      " 0   gender          215 non-null    object \n",
      " 1   ssc_p           215 non-null    float64\n",
      " 2   ssc_b           215 non-null    object \n",
      " 3   hsc_p           215 non-null    float64\n",
      " 4   hsc_b           215 non-null    object \n",
      " 5   hsc_s           215 non-null    object \n",
      " 6   degree_p        215 non-null    float64\n",
      " 7   degree_t        215 non-null    object \n",
      " 8   workex          215 non-null    object \n",
      " 9   etest_p         215 non-null    float64\n",
      " 10  specialisation  215 non-null    object \n",
      " 11  mba_p           215 non-null    float64\n",
      " 12  status          215 non-null    object \n",
      "dtypes: float64(5), object(8)\n",
      "memory usage: 22.0+ KB\n"
     ]
    }
   ],
   "source": [
    "df.info()"
   ]
  },
  {
   "cell_type": "code",
   "execution_count": 13,
   "id": "c23a99f0-65dd-4d65-afcf-da85a319b416",
   "metadata": {},
   "outputs": [
    {
     "data": {
      "text/plain": [
       "gender              2\n",
       "ssc_p             103\n",
       "ssc_b               2\n",
       "hsc_p              97\n",
       "hsc_b               2\n",
       "hsc_s               3\n",
       "degree_p           89\n",
       "degree_t            3\n",
       "workex              2\n",
       "etest_p           100\n",
       "specialisation      2\n",
       "mba_p             205\n",
       "status              2\n",
       "dtype: int64"
      ]
     },
     "execution_count": 13,
     "metadata": {},
     "output_type": "execute_result"
    }
   ],
   "source": [
    "df.nunique()"
   ]
  },
  {
   "cell_type": "markdown",
   "id": "a3ab3518-592e-4a85-b3eb-0b40db7d9341",
   "metadata": {},
   "source": [
    "### Data Preprocessing"
   ]
  },
  {
   "cell_type": "code",
   "execution_count": 14,
   "id": "f59ab426-0d6f-46a0-978a-cab741dd4c09",
   "metadata": {},
   "outputs": [],
   "source": [
    "df['gender'] = df['gender'].astype('category')\n",
    "df['gender'] = df['gender'].cat.codes\n",
    "\n",
    "df['ssc_b'] = df['ssc_b'].astype('category')\n",
    "df['ssc_b'] = df['ssc_b'].cat.codes\n",
    "\n",
    "df['hsc_b'] = df['hsc_b'].astype('category')\n",
    "df['hsc_b'] = df['hsc_b'].cat.codes\n",
    "\n",
    "df['hsc_s'] = df['hsc_s'].astype('category')\n",
    "df['hsc_s'] = df['hsc_s'].cat.codes\n",
    "\n",
    "df['degree_t'] = df['degree_t'].astype('category')\n",
    "df['degree_t'] = df['degree_t'].cat.codes\n",
    "\n",
    "df['workex'] = df['workex'].astype('category')\n",
    "df['workex'] = df['workex'].cat.codes\n",
    "\n",
    "df['specialisation'] = df['specialisation'].astype('category')\n",
    "df['specialisation'] = df['specialisation'].cat.codes\n",
    "\n",
    "df['status'] = df['status'].astype('category')\n",
    "df['status'] = df['status'].cat.codes"
   ]
  },
  {
   "cell_type": "code",
   "execution_count": 15,
   "id": "d22fde2d-73f4-4aea-9a9f-f1d41504bcc9",
   "metadata": {},
   "outputs": [
    {
     "data": {
      "text/html": [
       "<div>\n",
       "<style scoped>\n",
       "    .dataframe tbody tr th:only-of-type {\n",
       "        vertical-align: middle;\n",
       "    }\n",
       "\n",
       "    .dataframe tbody tr th {\n",
       "        vertical-align: top;\n",
       "    }\n",
       "\n",
       "    .dataframe thead th {\n",
       "        text-align: right;\n",
       "    }\n",
       "</style>\n",
       "<table border=\"1\" class=\"dataframe\">\n",
       "  <thead>\n",
       "    <tr style=\"text-align: right;\">\n",
       "      <th></th>\n",
       "      <th>gender</th>\n",
       "      <th>ssc_p</th>\n",
       "      <th>ssc_b</th>\n",
       "      <th>hsc_p</th>\n",
       "      <th>hsc_b</th>\n",
       "      <th>hsc_s</th>\n",
       "      <th>degree_p</th>\n",
       "      <th>degree_t</th>\n",
       "      <th>workex</th>\n",
       "      <th>etest_p</th>\n",
       "      <th>specialisation</th>\n",
       "      <th>mba_p</th>\n",
       "      <th>status</th>\n",
       "    </tr>\n",
       "  </thead>\n",
       "  <tbody>\n",
       "    <tr>\n",
       "      <th>0</th>\n",
       "      <td>1</td>\n",
       "      <td>67.00</td>\n",
       "      <td>1</td>\n",
       "      <td>91.00</td>\n",
       "      <td>1</td>\n",
       "      <td>1</td>\n",
       "      <td>58.00</td>\n",
       "      <td>2</td>\n",
       "      <td>0</td>\n",
       "      <td>55.0</td>\n",
       "      <td>1</td>\n",
       "      <td>58.80</td>\n",
       "      <td>1</td>\n",
       "    </tr>\n",
       "    <tr>\n",
       "      <th>1</th>\n",
       "      <td>1</td>\n",
       "      <td>79.33</td>\n",
       "      <td>0</td>\n",
       "      <td>78.33</td>\n",
       "      <td>1</td>\n",
       "      <td>2</td>\n",
       "      <td>77.48</td>\n",
       "      <td>2</td>\n",
       "      <td>1</td>\n",
       "      <td>86.5</td>\n",
       "      <td>0</td>\n",
       "      <td>66.28</td>\n",
       "      <td>1</td>\n",
       "    </tr>\n",
       "    <tr>\n",
       "      <th>2</th>\n",
       "      <td>1</td>\n",
       "      <td>65.00</td>\n",
       "      <td>0</td>\n",
       "      <td>68.00</td>\n",
       "      <td>0</td>\n",
       "      <td>0</td>\n",
       "      <td>64.00</td>\n",
       "      <td>0</td>\n",
       "      <td>0</td>\n",
       "      <td>75.0</td>\n",
       "      <td>0</td>\n",
       "      <td>57.80</td>\n",
       "      <td>1</td>\n",
       "    </tr>\n",
       "    <tr>\n",
       "      <th>3</th>\n",
       "      <td>1</td>\n",
       "      <td>56.00</td>\n",
       "      <td>0</td>\n",
       "      <td>52.00</td>\n",
       "      <td>0</td>\n",
       "      <td>2</td>\n",
       "      <td>52.00</td>\n",
       "      <td>2</td>\n",
       "      <td>0</td>\n",
       "      <td>66.0</td>\n",
       "      <td>1</td>\n",
       "      <td>59.43</td>\n",
       "      <td>0</td>\n",
       "    </tr>\n",
       "    <tr>\n",
       "      <th>4</th>\n",
       "      <td>1</td>\n",
       "      <td>85.80</td>\n",
       "      <td>0</td>\n",
       "      <td>73.60</td>\n",
       "      <td>0</td>\n",
       "      <td>1</td>\n",
       "      <td>73.30</td>\n",
       "      <td>0</td>\n",
       "      <td>0</td>\n",
       "      <td>96.8</td>\n",
       "      <td>0</td>\n",
       "      <td>55.50</td>\n",
       "      <td>1</td>\n",
       "    </tr>\n",
       "  </tbody>\n",
       "</table>\n",
       "</div>"
      ],
      "text/plain": [
       "   gender  ssc_p  ssc_b  hsc_p  hsc_b  hsc_s  degree_p  degree_t  workex  \\\n",
       "0       1  67.00      1  91.00      1      1     58.00         2       0   \n",
       "1       1  79.33      0  78.33      1      2     77.48         2       1   \n",
       "2       1  65.00      0  68.00      0      0     64.00         0       0   \n",
       "3       1  56.00      0  52.00      0      2     52.00         2       0   \n",
       "4       1  85.80      0  73.60      0      1     73.30         0       0   \n",
       "\n",
       "   etest_p  specialisation  mba_p  status  \n",
       "0     55.0               1  58.80       1  \n",
       "1     86.5               0  66.28       1  \n",
       "2     75.0               0  57.80       1  \n",
       "3     66.0               1  59.43       0  \n",
       "4     96.8               0  55.50       1  "
      ]
     },
     "execution_count": 15,
     "metadata": {},
     "output_type": "execute_result"
    }
   ],
   "source": [
    "df.head()"
   ]
  },
  {
   "cell_type": "code",
   "execution_count": 16,
   "id": "f7772ccd-b3b4-4ba5-803c-e7492ef56115",
   "metadata": {},
   "outputs": [],
   "source": [
    "X = df.drop(['status'],axis = 1)\n",
    "Y = df[['status']]"
   ]
  },
  {
   "cell_type": "code",
   "execution_count": 17,
   "id": "7d60f881-54a1-4324-9d4b-f8c235bec963",
   "metadata": {},
   "outputs": [
    {
     "data": {
      "text/html": [
       "<div>\n",
       "<style scoped>\n",
       "    .dataframe tbody tr th:only-of-type {\n",
       "        vertical-align: middle;\n",
       "    }\n",
       "\n",
       "    .dataframe tbody tr th {\n",
       "        vertical-align: top;\n",
       "    }\n",
       "\n",
       "    .dataframe thead th {\n",
       "        text-align: right;\n",
       "    }\n",
       "</style>\n",
       "<table border=\"1\" class=\"dataframe\">\n",
       "  <thead>\n",
       "    <tr style=\"text-align: right;\">\n",
       "      <th></th>\n",
       "      <th>status</th>\n",
       "    </tr>\n",
       "  </thead>\n",
       "  <tbody>\n",
       "    <tr>\n",
       "      <th>0</th>\n",
       "      <td>1</td>\n",
       "    </tr>\n",
       "    <tr>\n",
       "      <th>1</th>\n",
       "      <td>1</td>\n",
       "    </tr>\n",
       "    <tr>\n",
       "      <th>2</th>\n",
       "      <td>1</td>\n",
       "    </tr>\n",
       "    <tr>\n",
       "      <th>4</th>\n",
       "      <td>1</td>\n",
       "    </tr>\n",
       "    <tr>\n",
       "      <th>7</th>\n",
       "      <td>1</td>\n",
       "    </tr>\n",
       "    <tr>\n",
       "      <th>...</th>\n",
       "      <td>...</td>\n",
       "    </tr>\n",
       "    <tr>\n",
       "      <th>209</th>\n",
       "      <td>1</td>\n",
       "    </tr>\n",
       "    <tr>\n",
       "      <th>210</th>\n",
       "      <td>1</td>\n",
       "    </tr>\n",
       "    <tr>\n",
       "      <th>211</th>\n",
       "      <td>1</td>\n",
       "    </tr>\n",
       "    <tr>\n",
       "      <th>212</th>\n",
       "      <td>1</td>\n",
       "    </tr>\n",
       "    <tr>\n",
       "      <th>213</th>\n",
       "      <td>1</td>\n",
       "    </tr>\n",
       "  </tbody>\n",
       "</table>\n",
       "<p>148 rows × 1 columns</p>\n",
       "</div>"
      ],
      "text/plain": [
       "     status\n",
       "0         1\n",
       "1         1\n",
       "2         1\n",
       "4         1\n",
       "7         1\n",
       "..      ...\n",
       "209       1\n",
       "210       1\n",
       "211       1\n",
       "212       1\n",
       "213       1\n",
       "\n",
       "[148 rows x 1 columns]"
      ]
     },
     "execution_count": 17,
     "metadata": {},
     "output_type": "execute_result"
    }
   ],
   "source": [
    "Y[Y.status == 1]"
   ]
  },
  {
   "cell_type": "code",
   "execution_count": 18,
   "id": "d129ebcf-4104-4f06-91a5-9c88a422aa5b",
   "metadata": {},
   "outputs": [
    {
     "data": {
      "text/html": [
       "<div>\n",
       "<style scoped>\n",
       "    .dataframe tbody tr th:only-of-type {\n",
       "        vertical-align: middle;\n",
       "    }\n",
       "\n",
       "    .dataframe tbody tr th {\n",
       "        vertical-align: top;\n",
       "    }\n",
       "\n",
       "    .dataframe thead th {\n",
       "        text-align: right;\n",
       "    }\n",
       "</style>\n",
       "<table border=\"1\" class=\"dataframe\">\n",
       "  <thead>\n",
       "    <tr style=\"text-align: right;\">\n",
       "      <th></th>\n",
       "      <th>status</th>\n",
       "    </tr>\n",
       "  </thead>\n",
       "  <tbody>\n",
       "    <tr>\n",
       "      <th>3</th>\n",
       "      <td>0</td>\n",
       "    </tr>\n",
       "    <tr>\n",
       "      <th>5</th>\n",
       "      <td>0</td>\n",
       "    </tr>\n",
       "    <tr>\n",
       "      <th>6</th>\n",
       "      <td>0</td>\n",
       "    </tr>\n",
       "    <tr>\n",
       "      <th>9</th>\n",
       "      <td>0</td>\n",
       "    </tr>\n",
       "    <tr>\n",
       "      <th>12</th>\n",
       "      <td>0</td>\n",
       "    </tr>\n",
       "    <tr>\n",
       "      <th>...</th>\n",
       "      <td>...</td>\n",
       "    </tr>\n",
       "    <tr>\n",
       "      <th>198</th>\n",
       "      <td>0</td>\n",
       "    </tr>\n",
       "    <tr>\n",
       "      <th>201</th>\n",
       "      <td>0</td>\n",
       "    </tr>\n",
       "    <tr>\n",
       "      <th>206</th>\n",
       "      <td>0</td>\n",
       "    </tr>\n",
       "    <tr>\n",
       "      <th>208</th>\n",
       "      <td>0</td>\n",
       "    </tr>\n",
       "    <tr>\n",
       "      <th>214</th>\n",
       "      <td>0</td>\n",
       "    </tr>\n",
       "  </tbody>\n",
       "</table>\n",
       "<p>67 rows × 1 columns</p>\n",
       "</div>"
      ],
      "text/plain": [
       "     status\n",
       "3         0\n",
       "5         0\n",
       "6         0\n",
       "9         0\n",
       "12        0\n",
       "..      ...\n",
       "198       0\n",
       "201       0\n",
       "206       0\n",
       "208       0\n",
       "214       0\n",
       "\n",
       "[67 rows x 1 columns]"
      ]
     },
     "execution_count": 18,
     "metadata": {},
     "output_type": "execute_result"
    }
   ],
   "source": [
    "Y[Y.status == 0]"
   ]
  },
  {
   "cell_type": "code",
   "execution_count": 19,
   "id": "60cc7729-4f5c-4002-9973-6823772a4e99",
   "metadata": {},
   "outputs": [],
   "source": [
    "X_train,X_test,Y_train,Y_test = train_test_split(X,Y,test_size = 0.2)"
   ]
  },
  {
   "cell_type": "code",
   "execution_count": 20,
   "id": "e386613c-2bc0-48f4-ab4e-2a4a0ec6ad56",
   "metadata": {},
   "outputs": [
    {
     "name": "stdout",
     "output_type": "stream",
     "text": [
      "shape of X_train = (172, 12),\n",
      "shape of X_test = (43, 12) ,\n",
      "shape of Y_train = (172, 1),\n",
      "shape of Y_test = (43, 1)\n"
     ]
    }
   ],
   "source": [
    "# Print the shapes of training and testing data arrays\n",
    "print(f'shape of X_train = {X_train.shape},\\nshape of X_test = {X_test.shape} ,\\nshape of Y_train = {Y_train.shape},\\nshape of Y_test = {Y_test.shape}')"
   ]
  },
  {
   "cell_type": "markdown",
   "id": "e1614abd-b0a6-4ba0-bfe1-bcc3b2147e73",
   "metadata": {},
   "source": [
    "### KNN Classifier "
   ]
  },
  {
   "cell_type": "code",
   "execution_count": 21,
   "id": "b68e2db5-0e82-443f-b626-4023fcc5adce",
   "metadata": {},
   "outputs": [
    {
     "name": "stderr",
     "output_type": "stream",
     "text": [
      "C:\\Users\\ragha\\AppData\\Local\\Programs\\Python\\Python311\\Lib\\site-packages\\sklearn\\neighbors\\_classification.py:233: DataConversionWarning: A column-vector y was passed when a 1d array was expected. Please change the shape of y to (n_samples,), for example using ravel().\n",
      "  return self._fit(X, y)\n"
     ]
    },
    {
     "data": {
      "text/html": [
       "<style>#sk-container-id-1 {color: black;}#sk-container-id-1 pre{padding: 0;}#sk-container-id-1 div.sk-toggleable {background-color: white;}#sk-container-id-1 label.sk-toggleable__label {cursor: pointer;display: block;width: 100%;margin-bottom: 0;padding: 0.3em;box-sizing: border-box;text-align: center;}#sk-container-id-1 label.sk-toggleable__label-arrow:before {content: \"▸\";float: left;margin-right: 0.25em;color: #696969;}#sk-container-id-1 label.sk-toggleable__label-arrow:hover:before {color: black;}#sk-container-id-1 div.sk-estimator:hover label.sk-toggleable__label-arrow:before {color: black;}#sk-container-id-1 div.sk-toggleable__content {max-height: 0;max-width: 0;overflow: hidden;text-align: left;background-color: #f0f8ff;}#sk-container-id-1 div.sk-toggleable__content pre {margin: 0.2em;color: black;border-radius: 0.25em;background-color: #f0f8ff;}#sk-container-id-1 input.sk-toggleable__control:checked~div.sk-toggleable__content {max-height: 200px;max-width: 100%;overflow: auto;}#sk-container-id-1 input.sk-toggleable__control:checked~label.sk-toggleable__label-arrow:before {content: \"▾\";}#sk-container-id-1 div.sk-estimator input.sk-toggleable__control:checked~label.sk-toggleable__label {background-color: #d4ebff;}#sk-container-id-1 div.sk-label input.sk-toggleable__control:checked~label.sk-toggleable__label {background-color: #d4ebff;}#sk-container-id-1 input.sk-hidden--visually {border: 0;clip: rect(1px 1px 1px 1px);clip: rect(1px, 1px, 1px, 1px);height: 1px;margin: -1px;overflow: hidden;padding: 0;position: absolute;width: 1px;}#sk-container-id-1 div.sk-estimator {font-family: monospace;background-color: #f0f8ff;border: 1px dotted black;border-radius: 0.25em;box-sizing: border-box;margin-bottom: 0.5em;}#sk-container-id-1 div.sk-estimator:hover {background-color: #d4ebff;}#sk-container-id-1 div.sk-parallel-item::after {content: \"\";width: 100%;border-bottom: 1px solid gray;flex-grow: 1;}#sk-container-id-1 div.sk-label:hover label.sk-toggleable__label {background-color: #d4ebff;}#sk-container-id-1 div.sk-serial::before {content: \"\";position: absolute;border-left: 1px solid gray;box-sizing: border-box;top: 0;bottom: 0;left: 50%;z-index: 0;}#sk-container-id-1 div.sk-serial {display: flex;flex-direction: column;align-items: center;background-color: white;padding-right: 0.2em;padding-left: 0.2em;position: relative;}#sk-container-id-1 div.sk-item {position: relative;z-index: 1;}#sk-container-id-1 div.sk-parallel {display: flex;align-items: stretch;justify-content: center;background-color: white;position: relative;}#sk-container-id-1 div.sk-item::before, #sk-container-id-1 div.sk-parallel-item::before {content: \"\";position: absolute;border-left: 1px solid gray;box-sizing: border-box;top: 0;bottom: 0;left: 50%;z-index: -1;}#sk-container-id-1 div.sk-parallel-item {display: flex;flex-direction: column;z-index: 1;position: relative;background-color: white;}#sk-container-id-1 div.sk-parallel-item:first-child::after {align-self: flex-end;width: 50%;}#sk-container-id-1 div.sk-parallel-item:last-child::after {align-self: flex-start;width: 50%;}#sk-container-id-1 div.sk-parallel-item:only-child::after {width: 0;}#sk-container-id-1 div.sk-dashed-wrapped {border: 1px dashed gray;margin: 0 0.4em 0.5em 0.4em;box-sizing: border-box;padding-bottom: 0.4em;background-color: white;}#sk-container-id-1 div.sk-label label {font-family: monospace;font-weight: bold;display: inline-block;line-height: 1.2em;}#sk-container-id-1 div.sk-label-container {text-align: center;}#sk-container-id-1 div.sk-container {/* jupyter's `normalize.less` sets `[hidden] { display: none; }` but bootstrap.min.css set `[hidden] { display: none !important; }` so we also need the `!important` here to be able to override the default hidden behavior on the sphinx rendered scikit-learn.org. See: https://github.com/scikit-learn/scikit-learn/issues/21755 */display: inline-block !important;position: relative;}#sk-container-id-1 div.sk-text-repr-fallback {display: none;}</style><div id=\"sk-container-id-1\" class=\"sk-top-container\"><div class=\"sk-text-repr-fallback\"><pre>KNeighborsClassifier(n_neighbors=4)</pre><b>In a Jupyter environment, please rerun this cell to show the HTML representation or trust the notebook. <br />On GitHub, the HTML representation is unable to render, please try loading this page with nbviewer.org.</b></div><div class=\"sk-container\" hidden><div class=\"sk-item\"><div class=\"sk-estimator sk-toggleable\"><input class=\"sk-toggleable__control sk-hidden--visually\" id=\"sk-estimator-id-1\" type=\"checkbox\" checked><label for=\"sk-estimator-id-1\" class=\"sk-toggleable__label sk-toggleable__label-arrow\">KNeighborsClassifier</label><div class=\"sk-toggleable__content\"><pre>KNeighborsClassifier(n_neighbors=4)</pre></div></div></div></div></div>"
      ],
      "text/plain": [
       "KNeighborsClassifier(n_neighbors=4)"
      ]
     },
     "execution_count": 21,
     "metadata": {},
     "output_type": "execute_result"
    }
   ],
   "source": [
    "Knn = KNeighborsClassifier(n_neighbors = 4)\n",
    "Knn.fit(X_test,Y_test)"
   ]
  },
  {
   "cell_type": "code",
   "execution_count": 22,
   "id": "8e8293a5-c8a4-4dbd-922a-b84ca2c57cba",
   "metadata": {},
   "outputs": [
    {
     "data": {
      "text/plain": [
       "array([1, 1, 1, 1, 0, 0, 0, 0, 1, 0, 0, 1, 1, 0, 1, 1, 1, 1, 1, 1, 1, 0,\n",
       "       0, 1, 0, 1, 0, 1, 1, 0, 1, 1, 1, 0, 1, 0, 0, 0, 0, 1, 1, 1, 1],\n",
       "      dtype=int8)"
      ]
     },
     "execution_count": 22,
     "metadata": {},
     "output_type": "execute_result"
    }
   ],
   "source": [
    "Y_pred = Knn.predict(X_test)\n",
    "Y_pred"
   ]
  },
  {
   "cell_type": "markdown",
   "id": "d11e622e-895d-4d21-9b6c-c5a3066d6103",
   "metadata": {},
   "source": [
    "### Model_ Evaluation"
   ]
  },
  {
   "cell_type": "code",
   "execution_count": 23,
   "id": "07f5283a-2d04-4ee7-85e8-52af6771e08c",
   "metadata": {},
   "outputs": [
    {
     "name": "stdout",
     "output_type": "stream",
     "text": [
      "Accuracy_of_Model : 0.8837209302325582\n"
     ]
    }
   ],
   "source": [
    "print('Accuracy_of_Model :', Knn.score(X_test,Y_test))"
   ]
  },
  {
   "cell_type": "code",
   "execution_count": 24,
   "id": "bfd1e878-ff5b-41ce-a300-fdcc0ab65c93",
   "metadata": {},
   "outputs": [
    {
     "name": "stdout",
     "output_type": "stream",
     "text": [
      "Confusion_matrix : \n",
      "\n",
      " [[14  3]\n",
      " [ 2 24]]\n"
     ]
    }
   ],
   "source": [
    "cm = confusion_matrix(Y_pred,Y_test)\n",
    "print(f'Confusion_matrix : \\n\\n {cm}')"
   ]
  },
  {
   "cell_type": "code",
   "execution_count": 25,
   "id": "9db8c911-0e6a-4a18-aad1-d2dd85af6d98",
   "metadata": {},
   "outputs": [
    {
     "name": "stdout",
     "output_type": "stream",
     "text": [
      "classification report :\n",
      "\n",
      "               precision    recall  f1-score   support\n",
      "\n",
      "           0       0.88      0.82      0.85        17\n",
      "           1       0.89      0.92      0.91        26\n",
      "\n",
      "    accuracy                           0.88        43\n",
      "   macro avg       0.88      0.87      0.88        43\n",
      "weighted avg       0.88      0.88      0.88        43\n",
      "\n"
     ]
    }
   ],
   "source": [
    "print(f'classification report :\\n\\n {classification_report(Y_pred,Y_test)}')"
   ]
  },
  {
   "cell_type": "code",
   "execution_count": 26,
   "id": "1504d386-667b-4c65-82cc-87cf84aaa03f",
   "metadata": {},
   "outputs": [
    {
     "data": {
      "text/html": [
       "<div>\n",
       "<style scoped>\n",
       "    .dataframe tbody tr th:only-of-type {\n",
       "        vertical-align: middle;\n",
       "    }\n",
       "\n",
       "    .dataframe tbody tr th {\n",
       "        vertical-align: top;\n",
       "    }\n",
       "\n",
       "    .dataframe thead th {\n",
       "        text-align: right;\n",
       "    }\n",
       "</style>\n",
       "<table border=\"1\" class=\"dataframe\">\n",
       "  <thead>\n",
       "    <tr style=\"text-align: right;\">\n",
       "      <th></th>\n",
       "      <th>Considered_n_neighbors</th>\n",
       "      <th>Accuracy</th>\n",
       "    </tr>\n",
       "  </thead>\n",
       "  <tbody>\n",
       "    <tr>\n",
       "      <th>0</th>\n",
       "      <td>n_nieghbors = 3</td>\n",
       "      <td>0.88</td>\n",
       "    </tr>\n",
       "    <tr>\n",
       "      <th>1</th>\n",
       "      <td>n_nieghbors = 4</td>\n",
       "      <td>0.93</td>\n",
       "    </tr>\n",
       "    <tr>\n",
       "      <th>2</th>\n",
       "      <td>n_nieghbors = 5</td>\n",
       "      <td>0.90</td>\n",
       "    </tr>\n",
       "    <tr>\n",
       "      <th>3</th>\n",
       "      <td>n_nieghbors = 6</td>\n",
       "      <td>0.91</td>\n",
       "    </tr>\n",
       "    <tr>\n",
       "      <th>4</th>\n",
       "      <td>n_nieghbors = 9</td>\n",
       "      <td>0.83</td>\n",
       "    </tr>\n",
       "    <tr>\n",
       "      <th>5</th>\n",
       "      <td>n_nieghbors = 12</td>\n",
       "      <td>0.84</td>\n",
       "    </tr>\n",
       "  </tbody>\n",
       "</table>\n",
       "</div>"
      ],
      "text/plain": [
       "  Considered_n_neighbors  Accuracy\n",
       "0        n_nieghbors = 3      0.88\n",
       "1        n_nieghbors = 4      0.93\n",
       "2        n_nieghbors = 5      0.90\n",
       "3        n_nieghbors = 6      0.91\n",
       "4        n_nieghbors = 9      0.83\n",
       "5       n_nieghbors = 12      0.84"
      ]
     },
     "execution_count": 26,
     "metadata": {},
     "output_type": "execute_result"
    }
   ],
   "source": [
    "data = {\n",
    "    'Considered_n_neighbors': ['n_nieghbors = 3','n_nieghbors = 4','n_nieghbors = 5','n_nieghbors = 6','n_nieghbors = 9','n_nieghbors = 12'],\n",
    "    'Accuracy': [0.88, 0.93, 0.90,0.91,0.83,0.84]\n",
    "}\n",
    "# Create a DataFrame from the dictionary\n",
    "accuracy_df = pd.DataFrame(data)\n",
    "\n",
    "# Display the DataFrame\n",
    "accuracy_df\n"
   ]
  },
  {
   "cell_type": "code",
   "execution_count": null,
   "id": "8d9aad71-5616-463d-aeac-2d8001dcd3f9",
   "metadata": {},
   "outputs": [],
   "source": []
  }
 ],
 "metadata": {
  "kernelspec": {
   "display_name": "Python 3 (ipykernel)",
   "language": "python",
   "name": "python3"
  },
  "language_info": {
   "codemirror_mode": {
    "name": "ipython",
    "version": 3
   },
   "file_extension": ".py",
   "mimetype": "text/x-python",
   "name": "python",
   "nbconvert_exporter": "python",
   "pygments_lexer": "ipython3",
   "version": "3.11.4"
  }
 },
 "nbformat": 4,
 "nbformat_minor": 5
}
